{
 "cells": [
  {
   "cell_type": "code",
   "execution_count": 2,
   "metadata": {},
   "outputs": [
    {
     "name": "stdout",
     "output_type": "stream",
     "text": [
      "root\n",
      " |-- kit_id: integer (nullable = true)\n",
      " |-- participant_id: integer (nullable = true)\n",
      " |-- time: string (nullable = true)\n",
      " |-- lat: double (nullable = true)\n",
      " |-- lon: double (nullable = true)\n",
      " |-- PM2-5: string (nullable = true)\n",
      " |-- PM10: string (nullable = true)\n",
      " |-- PM1-0: string (nullable = true)\n",
      " |-- NO2: string (nullable = true)\n",
      " |-- BC: string (nullable = true)\n",
      " |-- activity: string (nullable = true)\n",
      " |-- event: string (nullable = true)\n",
      "\n"
     ]
    }
   ],
   "source": [
    "from pyspark import SparkContext, SparkConf\n",
    "from pyspark.sql.functions import col, when, unix_timestamp\n",
    "sc = SparkContext.getOrCreate()\n",
    "df = spark.read.option(\"header\",True).option(\"inferSchema\",True).csv(\"C:/Users/Winsido/Desktop/VGP-week3-data.csv\")\n",
    "df.printSchema()"
   ]
  },
  {
   "cell_type": "code",
   "execution_count": 3,
   "metadata": {},
   "outputs": [
    {
     "name": "stdout",
     "output_type": "stream",
     "text": [
      "+------+--------------+-------------------+----------------+----------------+-----+----+-----+----+----+--------+-----+\n",
      "|kit_id|participant_id|               time|             lat|             lon|PM2-5|PM10|PM1-0| NO2|  BC|activity|event|\n",
      "+------+--------------+-------------------+----------------+----------------+-----+----+-----+----+----+--------+-----+\n",
      "|    80|       9999964|2019-11-14 09:00:00|48.7717766666667|        2.006005| null|null| null|null|NULL|    null| null|\n",
      "|    80|       9999964|2019-11-14 09:00:10|48.7717766666667|        2.006005| null|null| null|null|NULL|    null| null|\n",
      "|    80|       9999964|2019-11-14 09:00:20|48.7717766666667|        2.006005| null|null| null|null|NULL|    null| null|\n",
      "|    80|       9999964|2019-11-14 09:00:30|48.7717766666667|        2.006005| null|null| null|null|NULL|    null| null|\n",
      "|    80|       9999964|2019-11-14 09:00:40|48.7717766666667|        2.006005| null|null| null|null|NULL|    null| null|\n",
      "|    80|       9999964|2019-11-14 09:00:50|48.7717766666667|        2.006005| null|null| null|null|NULL|    null| null|\n",
      "|    80|       9999964|2019-11-14 09:01:00|48.7717766666667|        2.006005| null|null| null|null|NULL|    null| null|\n",
      "|    80|       9999964|2019-11-14 09:01:10|48.7717766666667|        2.006005| null|null| null|null|NULL|    null| null|\n",
      "|    80|       9999964|2019-11-14 09:01:20|48.7717766666667|        2.006005| null|null| null|null|NULL|    null| null|\n",
      "|    80|       9999964|2019-11-14 09:01:30|48.7717766666667|        2.006005| null|null| null|null|NULL|    null| null|\n",
      "|    80|       9999964|2019-11-14 09:01:40|48.7717766666667|        2.006005| null|null| null|null|NULL|    null| null|\n",
      "|    80|       9999964|2019-11-14 09:01:50|48.7717766666667|        2.006005| null|null| null|null|NULL|    null| null|\n",
      "|    80|       9999964|2019-11-14 09:02:00|48.7717766666667|        2.006005| null|null| null|null|NULL|    null| null|\n",
      "|    80|       9999964|2019-11-14 09:02:10|48.7717766666667|        2.006005| null|null| null|null|NULL|    null| null|\n",
      "|    80|       9999964|2019-11-14 09:02:20|48.7717766666667|        2.006005| null|null| null|null|NULL|    null| null|\n",
      "|    80|       9999964|2019-11-14 09:02:30|48.7717766666667|        2.006005| null|null| null|null|NULL|    null| null|\n",
      "|    80|       9999964|2019-11-14 09:02:40|48.7717766666667|        2.006005| null|null| null|null|NULL|    null| null|\n",
      "|    80|       9999964|2019-11-14 09:02:50|48.7717466666667|2.00590833333333| null|null| null|null|NULL|    null| null|\n",
      "|    80|       9999964|2019-11-14 09:03:00|48.7717466666667|2.00590833333333| null|null| null|null|NULL|    null| null|\n",
      "|    80|       9999964|2019-11-14 09:03:10|       48.771765|2.00590333333333| null|null| null|null|NULL|    null| null|\n",
      "+------+--------------+-------------------+----------------+----------------+-----+----+-----+----+----+--------+-----+\n",
      "only showing top 20 rows\n",
      "\n"
     ]
    }
   ],
   "source": [
    "#On renome les colonnes\n",
    "df = df.withColumn(\n",
    "    (\"PM2-5\"),\n",
    "    when(\n",
    "        col(\"PM2-5\") == \"NULL\",\n",
    "        None\n",
    "    ).otherwise(col(\"PM2-5\"))\n",
    ")\n",
    "df = df.withColumn(\n",
    "    (\"PM10\"),\n",
    "    when(\n",
    "        col(\"PM10\") == \"NULL\",\n",
    "        None\n",
    "    ).otherwise(col(\"PM10\"))\n",
    ")\n",
    "df = df.withColumn(\n",
    "    (\"PM1-0\"),\n",
    "    when(\n",
    "        col(\"PM1-0\") == \"NULL\",\n",
    "        None\n",
    "    ).otherwise(col(\"PM1-0\"))\n",
    ")\n",
    "df = df.withColumn(\n",
    "    (\"NO2\"),\n",
    "    when(\n",
    "        col(\"NO2\") == \"NULL\",\n",
    "        None\n",
    "    ).otherwise(col(\"NO2\"))\n",
    ")\n",
    "df = df.withColumn(\n",
    "    (\"activity\"),\n",
    "    when(\n",
    "        col(\"activity\") == \"NULL\",\n",
    "        None\n",
    "    ).otherwise(col(\"activity\"))\n",
    ")\n",
    "df = df.withColumn(\n",
    "    (\"event\"),\n",
    "    when(\n",
    "        col(\"event\") == \"NULL\",\n",
    "        None\n",
    "    ).otherwise(col(\"event\"))\n",
    ")\n",
    "df.show()"
   ]
  },
  {
   "cell_type": "code",
   "execution_count": 4,
   "metadata": {},
   "outputs": [
    {
     "name": "stdout",
     "output_type": "stream",
     "text": [
      "+------+--------------+----------+----------------+----------------+-----+----+-----+----+----+--------+-----+\n",
      "|kit_id|participant_id|      time|             lat|             lon|PM2-5|PM10|PM1-0| NO2|  BC|activity|event|\n",
      "+------+--------------+----------+----------------+----------------+-----+----+-----+----+----+--------+-----+\n",
      "|    80|       9999964|1573718400|48.7717766666667|        2.006005| null|null| null|null|NULL|    null| null|\n",
      "|    80|       9999964|1573718410|48.7717766666667|        2.006005| null|null| null|null|NULL|    null| null|\n",
      "|    80|       9999964|1573718420|48.7717766666667|        2.006005| null|null| null|null|NULL|    null| null|\n",
      "|    80|       9999964|1573718430|48.7717766666667|        2.006005| null|null| null|null|NULL|    null| null|\n",
      "|    80|       9999964|1573718440|48.7717766666667|        2.006005| null|null| null|null|NULL|    null| null|\n",
      "|    80|       9999964|1573718450|48.7717766666667|        2.006005| null|null| null|null|NULL|    null| null|\n",
      "|    80|       9999964|1573718460|48.7717766666667|        2.006005| null|null| null|null|NULL|    null| null|\n",
      "|    80|       9999964|1573718470|48.7717766666667|        2.006005| null|null| null|null|NULL|    null| null|\n",
      "|    80|       9999964|1573718480|48.7717766666667|        2.006005| null|null| null|null|NULL|    null| null|\n",
      "|    80|       9999964|1573718490|48.7717766666667|        2.006005| null|null| null|null|NULL|    null| null|\n",
      "|    80|       9999964|1573718500|48.7717766666667|        2.006005| null|null| null|null|NULL|    null| null|\n",
      "|    80|       9999964|1573718510|48.7717766666667|        2.006005| null|null| null|null|NULL|    null| null|\n",
      "|    80|       9999964|1573718520|48.7717766666667|        2.006005| null|null| null|null|NULL|    null| null|\n",
      "|    80|       9999964|1573718530|48.7717766666667|        2.006005| null|null| null|null|NULL|    null| null|\n",
      "|    80|       9999964|1573718540|48.7717766666667|        2.006005| null|null| null|null|NULL|    null| null|\n",
      "|    80|       9999964|1573718550|48.7717766666667|        2.006005| null|null| null|null|NULL|    null| null|\n",
      "|    80|       9999964|1573718560|48.7717766666667|        2.006005| null|null| null|null|NULL|    null| null|\n",
      "|    80|       9999964|1573718570|48.7717466666667|2.00590833333333| null|null| null|null|NULL|    null| null|\n",
      "|    80|       9999964|1573718580|48.7717466666667|2.00590833333333| null|null| null|null|NULL|    null| null|\n",
      "|    80|       9999964|1573718590|       48.771765|2.00590333333333| null|null| null|null|NULL|    null| null|\n",
      "+------+--------------+----------+----------------+----------------+-----+----+-----+----+----+--------+-----+\n",
      "only showing top 20 rows\n",
      "\n",
      "root\n",
      " |-- kit_id: integer (nullable = true)\n",
      " |-- participant_id: integer (nullable = true)\n",
      " |-- time: long (nullable = true)\n",
      " |-- lat: double (nullable = true)\n",
      " |-- lon: double (nullable = true)\n",
      " |-- PM2-5: string (nullable = true)\n",
      " |-- PM10: string (nullable = true)\n",
      " |-- PM1-0: string (nullable = true)\n",
      " |-- NO2: string (nullable = true)\n",
      " |-- BC: string (nullable = true)\n",
      " |-- activity: string (nullable = true)\n",
      " |-- event: string (nullable = true)\n",
      "\n"
     ]
    }
   ],
   "source": [
    "df = df.withColumn('time',unix_timestamp('time', 'yyyy-MM-dd HH:mm:ss').alias('time'))\n",
    "df.show()\n",
    "df.printSchema()"
   ]
  },
  {
   "cell_type": "code",
   "execution_count": 5,
   "metadata": {},
   "outputs": [],
   "source": [
    "#On remplace les valeur string \"null\" par la vrai valeur null\n",
    "df = df.withColumn(\n",
    "    (\"BC\"),\n",
    "    when(\n",
    "        col(\"BC\") == \"NULL\",\n",
    "        None\n",
    "    ).otherwise(col(\"BC\"))\n",
    ")\n",
    "df = df.withColumn(\n",
    "    (\"PM2-5\"),\n",
    "    when(\n",
    "        col(\"PM2-5\") == \"NULL\",\n",
    "        None\n",
    "    ).otherwise(col(\"PM2-5\"))\n",
    ")\n",
    "df = df.withColumn(\n",
    "    (\"PM10\"),\n",
    "    when(\n",
    "        col(\"PM10\") == \"NULL\",\n",
    "        None\n",
    "    ).otherwise(col(\"PM10\"))\n",
    ")\n",
    "df = df.withColumn(\n",
    "    (\"PM1-0\"),\n",
    "    when(\n",
    "        col(\"PM1-0\") == \"NULL\",\n",
    "        None\n",
    "    ).otherwise(col(\"PM1-0\"))\n",
    ")\n",
    "df = df.withColumn(\n",
    "    (\"NO2\"),\n",
    "    when(\n",
    "        col(\"NO2\") == \"NULL\",\n",
    "        None\n",
    "    ).otherwise(col(\"NO2\"))\n",
    ")\n",
    "df = df.withColumn(\n",
    "    (\"activity\"),\n",
    "    when(\n",
    "        col(\"activity\") == \"NULL\",\n",
    "        None\n",
    "    ).otherwise(col(\"activity\"))\n",
    ")\n",
    "df = df.withColumn(\n",
    "    (\"event\"),\n",
    "    when(\n",
    "        col(\"event\") == \"NULL\",\n",
    "        None\n",
    "    ).otherwise(col(\"event\"))\n",
    ")"
   ]
  },
  {
   "cell_type": "code",
   "execution_count": 6,
   "metadata": {},
   "outputs": [
    {
     "name": "stdout",
     "output_type": "stream",
     "text": [
      "+------+--------------+----------+----------------+----------------+-----+----+-----+----+----+--------+-----+\n",
      "|kit_id|participant_id|      time|             lat|             lon|PM2-5|PM10|PM1-0| NO2|  BC|activity|event|\n",
      "+------+--------------+----------+----------------+----------------+-----+----+-----+----+----+--------+-----+\n",
      "|    80|       9999964|1573718400|48.7717766666667|        2.006005| null|null| null|null|null|    null| null|\n",
      "|    80|       9999964|1573718410|48.7717766666667|        2.006005| null|null| null|null|null|    null| null|\n",
      "|    80|       9999964|1573718420|48.7717766666667|        2.006005| null|null| null|null|null|    null| null|\n",
      "|    80|       9999964|1573718430|48.7717766666667|        2.006005| null|null| null|null|null|    null| null|\n",
      "|    80|       9999964|1573718440|48.7717766666667|        2.006005| null|null| null|null|null|    null| null|\n",
      "|    80|       9999964|1573718450|48.7717766666667|        2.006005| null|null| null|null|null|    null| null|\n",
      "|    80|       9999964|1573718460|48.7717766666667|        2.006005| null|null| null|null|null|    null| null|\n",
      "|    80|       9999964|1573718470|48.7717766666667|        2.006005| null|null| null|null|null|    null| null|\n",
      "|    80|       9999964|1573718480|48.7717766666667|        2.006005| null|null| null|null|null|    null| null|\n",
      "|    80|       9999964|1573718490|48.7717766666667|        2.006005| null|null| null|null|null|    null| null|\n",
      "|    80|       9999964|1573718500|48.7717766666667|        2.006005| null|null| null|null|null|    null| null|\n",
      "|    80|       9999964|1573718510|48.7717766666667|        2.006005| null|null| null|null|null|    null| null|\n",
      "|    80|       9999964|1573718520|48.7717766666667|        2.006005| null|null| null|null|null|    null| null|\n",
      "|    80|       9999964|1573718530|48.7717766666667|        2.006005| null|null| null|null|null|    null| null|\n",
      "|    80|       9999964|1573718540|48.7717766666667|        2.006005| null|null| null|null|null|    null| null|\n",
      "|    80|       9999964|1573718550|48.7717766666667|        2.006005| null|null| null|null|null|    null| null|\n",
      "|    80|       9999964|1573718560|48.7717766666667|        2.006005| null|null| null|null|null|    null| null|\n",
      "|    80|       9999964|1573718570|48.7717466666667|2.00590833333333| null|null| null|null|null|    null| null|\n",
      "|    80|       9999964|1573718580|48.7717466666667|2.00590833333333| null|null| null|null|null|    null| null|\n",
      "|    80|       9999964|1573718590|       48.771765|2.00590333333333| null|null| null|null|null|    null| null|\n",
      "+------+--------------+----------+----------------+----------------+-----+----+-----+----+----+--------+-----+\n",
      "only showing top 20 rows\n",
      "\n"
     ]
    }
   ],
   "source": [
    "df.show()"
   ]
  },
  {
   "cell_type": "code",
   "execution_count": 7,
   "metadata": {},
   "outputs": [
    {
     "name": "stdout",
     "output_type": "stream",
     "text": [
      "+------+--------------+----------+----------------+----------------+-----+----+-----+---+---+--------+-------------------+\n",
      "|kit_id|participant_id|      time|             lat|             lon|PM2-5|PM10|PM1-0|NO2| BC|activity|              event|\n",
      "+------+--------------+----------+----------------+----------------+-----+----+-----+---+---+--------+-------------------+\n",
      "|    80|       9999964|1573804980|48.7717266666667|2.00586333333333|    3|   4|    4|  7|376|  Bureau|Arrêter De Cuisiner|\n",
      "|    80|       9999964|1573804990|48.7717266666667|2.00586333333333|    3|   4|    4|  7|376|  Bureau|Arrêter De Cuisiner|\n",
      "|    80|       9999964|1573805000|48.7717266666667|2.00586333333333|    3|   4|    4|  7|376|  Bureau|Arrêter De Cuisiner|\n",
      "|    80|       9999964|1573805010|48.7717266666667|2.00586333333333|    3|   4|    4|  7|376|  Bureau|Arrêter De Cuisiner|\n",
      "|    80|       9999964|1573805020|48.7717266666667|2.00586333333333|    3|   4|    4|  7|376|  Bureau|Arrêter De Cuisiner|\n",
      "|    80|       9999964|1573805030|48.7717266666667|2.00586333333333|    3|   4|    4|  7|376|  Bureau|Arrêter De Cuisiner|\n",
      "|    80|       9999964|1573805760|48.7717316666667|         2.00585|    3|   3|    3|  6|362|  Bureau|Arrêter De Cuisiner|\n",
      "|    80|       9999964|1573805770|48.7717316666667|         2.00585|    3|   3|    3|  6|362|  Bureau|Arrêter De Cuisiner|\n",
      "|    80|       9999964|1573805780|48.7716833333333|2.00596833333333|    3|   3|    3|  6|362|  Bureau|Arrêter De Cuisiner|\n",
      "|    80|       9999964|1573805790|48.7716833333333|2.00596833333333|    3|   3|    3|  6|362|  Bureau|Arrêter De Cuisiner|\n",
      "|    80|       9999964|1573805800|48.7717216666667|2.00613833333333|    3|   3|    3|  6|362|  Bureau|Arrêter De Cuisiner|\n",
      "|    80|       9999964|1573805810|48.7717216666667|2.00613833333333|    3|   3|    3|  6|362|  Bureau|Arrêter De Cuisiner|\n",
      "|    80|       9999964|1573806540|       48.771845|2.00604333333333|    3|   3|    3|  5|426|  Bureau|Arrêter De Cuisiner|\n",
      "|    80|       9999964|1573806550|        48.77189|2.00580666666667|    3|   3|    3|  5|426|  Bureau|Arrêter De Cuisiner|\n",
      "|    80|       9999964|1573806560|        48.77189|2.00580666666667|    3|   3|    3|  5|426|  Bureau|Arrêter De Cuisiner|\n",
      "|    80|       9999964|1573806570|        48.77189|2.00580666666667|    3|   3|    3|  5|426|  Bureau|Arrêter De Cuisiner|\n",
      "|    80|       9999964|1573806580|        48.77189|2.00580666666667|    3|   3|    3|  5|426|  Bureau|Arrêter De Cuisiner|\n",
      "|    80|       9999964|1573806590|        48.77189|2.00580666666667|    3|   3|    3|  5|426|  Bureau|Arrêter De Cuisiner|\n",
      "|    80|       9999964|1573807320|       48.771755|2.00590333333333|    3|   3|    3|  6|460|  Bureau|Arrêter De Cuisiner|\n",
      "|    80|       9999964|1573807330|       48.771755|2.00590333333333|    3|   3|    3|  6|460|  Bureau|Arrêter De Cuisiner|\n",
      "+------+--------------+----------+----------------+----------------+-----+----+-----+---+---+--------+-------------------+\n",
      "only showing top 20 rows\n",
      "\n"
     ]
    }
   ],
   "source": [
    "#Test\n",
    "df.where(col(\"PM2-5\").isNotNull()).show()"
   ]
  },
  {
   "cell_type": "code",
   "execution_count": 8,
   "metadata": {},
   "outputs": [
    {
     "name": "stdout",
     "output_type": "stream",
     "text": [
      "+------+--------------+----------+----------------+--------+-----+----+-----+----+----+--------+-----+\n",
      "|kit_id|participant_id|      time|             lat|     lon|PM2-5|PM10|PM1-0| NO2|  BC|activity|event|\n",
      "+------+--------------+----------+----------------+--------+-----+----+-----+----+----+--------+-----+\n",
      "|    80|       9999964|1573718400|48.7717766666667|2.006005| null|null| null|null|null|    null| null|\n",
      "|    80|       9999964|1573718410|48.7717766666667|2.006005| null|null| null|null|null|    null| null|\n",
      "|    80|       9999964|1573718420|48.7717766666667|2.006005| null|null| null|null|null|    null| null|\n",
      "|    80|       9999964|1573718430|48.7717766666667|2.006005| null|null| null|null|null|    null| null|\n",
      "|    80|       9999964|1573718440|48.7717766666667|2.006005| null|null| null|null|null|    null| null|\n",
      "|    80|       9999964|1573718450|48.7717766666667|2.006005| null|null| null|null|null|    null| null|\n",
      "|    80|       9999964|1573718460|48.7717766666667|2.006005| null|null| null|null|null|    null| null|\n",
      "|    80|       9999964|1573718470|48.7717766666667|2.006005| null|null| null|null|null|    null| null|\n",
      "|    80|       9999964|1573718480|48.7717766666667|2.006005| null|null| null|null|null|    null| null|\n",
      "|    80|       9999964|1573718490|48.7717766666667|2.006005| null|null| null|null|null|    null| null|\n",
      "+------+--------------+----------+----------------+--------+-----+----+-----+----+----+--------+-----+\n",
      "only showing top 10 rows\n",
      "\n",
      "root\n",
      " |-- kit_id: integer (nullable = true)\n",
      " |-- participant_id: integer (nullable = true)\n",
      " |-- time: long (nullable = true)\n",
      " |-- lat: double (nullable = true)\n",
      " |-- lon: double (nullable = true)\n",
      " |-- PM2-5: string (nullable = true)\n",
      " |-- PM10: string (nullable = true)\n",
      " |-- PM1-0: string (nullable = true)\n",
      " |-- NO2: string (nullable = true)\n",
      " |-- BC: string (nullable = true)\n",
      " |-- activity: string (nullable = true)\n",
      " |-- event: string (nullable = true)\n",
      "\n"
     ]
    }
   ],
   "source": [
    "df = df.sort(\"time\")\n",
    "df.show(10)\n",
    "df.printSchema()"
   ]
  },
  {
   "cell_type": "code",
   "execution_count": 9,
   "metadata": {},
   "outputs": [
    {
     "name": "stdout",
     "output_type": "stream",
     "text": [
      "root\n",
      " |-- kit_id: integer (nullable = true)\n",
      " |-- participant_id: integer (nullable = true)\n",
      " |-- time: long (nullable = true)\n",
      " |-- lat: double (nullable = true)\n",
      " |-- lon: double (nullable = true)\n",
      " |-- PM2-5: double (nullable = true)\n",
      " |-- PM10: double (nullable = true)\n",
      " |-- PM1-0: double (nullable = true)\n",
      " |-- NO2: double (nullable = true)\n",
      " |-- BC: double (nullable = true)\n",
      " |-- activity: string (nullable = true)\n",
      " |-- event: string (nullable = true)\n",
      "\n"
     ]
    }
   ],
   "source": [
    "#Conversion des types PM2.5, BC ... en double\n",
    "#Remarque dans notre fichier de donnée j'ai eliminer le \"+00\" a chaque fois\n",
    "from pyspark.sql.types import DoubleType\n",
    "df = df.withColumn(\"PM2-5\",df[\"PM2-5\"].cast(DoubleType()))\n",
    "df = df.withColumn(\"PM10\",df[\"PM10\"].cast(DoubleType()))\n",
    "df = df.withColumn(\"PM1-0\",df[\"PM1-0\"].cast(DoubleType()))\n",
    "df = df.withColumn(\"NO2\",df[\"NO2\"].cast(DoubleType()))\n",
    "df = df.withColumn(\"BC\",df[\"BC\"].cast(DoubleType()))\n",
    "df.printSchema()"
   ]
  },
  {
   "cell_type": "code",
   "execution_count": 10,
   "metadata": {},
   "outputs": [
    {
     "name": "stdout",
     "output_type": "stream",
     "text": [
      "+---+---+---+-----+---+---+\n",
      "|  a|  b|  c|    r| t1| t2|\n",
      "+---+---+---+-----+---+---+\n",
      "|0.0|1.0|2.0| true|  0|  1|\n",
      "|0.0|2.0|2.0|false|  2|  3|\n",
      "+---+---+---+-----+---+---+\n",
      "\n",
      "root\n",
      " |-- a: double (nullable = true)\n",
      " |-- b: double (nullable = true)\n",
      " |-- c: double (nullable = true)\n",
      " |-- r: boolean (nullable = true)\n",
      " |-- t1: long (nullable = true)\n",
      " |-- t2: long (nullable = true)\n",
      "\n"
     ]
    }
   ],
   "source": [
    "#Debut implementation type \n",
    "#Et test sur un exemple\n",
    "from pyspark.sql.types import (StructField,StructType, BooleanType, DoubleType,LongType)\n",
    "data_schema = [StructField('a', DoubleType(),True),\n",
    "              StructField('b', DoubleType(),True),\n",
    "              StructField('c', DoubleType(),True),\n",
    "              StructField('r', BooleanType(),True),\n",
    "              StructField('t1', LongType(),True),\n",
    "              StructField('t2', LongType(),True)]\n",
    "ureal_schema = StructType(fields=data_schema)\n",
    "dff = spark.read.csv(\"C:/Users/Winsido/Desktop/test.csv\",schema=ureal_schema)\n",
    "dff.show()\n",
    "dff.printSchema()"
   ]
  },
  {
   "cell_type": "code",
   "execution_count": 11,
   "metadata": {},
   "outputs": [
    {
     "name": "stdout",
     "output_type": "stream",
     "text": [
      "+---+---+---+---+---+---+\n",
      "|  a|  b|  c|  r| t1| t2|\n",
      "+---+---+---+---+---+---+\n",
      "+---+---+---+---+---+---+\n",
      "\n"
     ]
    }
   ],
   "source": [
    "#Initialisation de urealPM2_5\n",
    "urealPM2_5 = sqlContext.createDataFrame(sc.emptyRDD(),ureal_schema)\n",
    "urealPM2_5.show()"
   ]
  },
  {
   "cell_type": "code",
   "execution_count": 111,
   "metadata": {},
   "outputs": [
    {
     "name": "stdout",
     "output_type": "stream",
     "text": [
      "root\n",
      " |-- lat: double (nullable = true)\n",
      " |-- lon: double (nullable = true)\n",
      " |-- time: long (nullable = true)\n",
      " |-- (time_temp + 10): long (nullable = true)\n",
      " |-- lat_temp: double (nullable = true)\n",
      " |-- lon_temp: double (nullable = true)\n",
      " |-- PM2-5: double (nullable = true)\n",
      " |-- PM2-5_temp: double (nullable = true)\n",
      "\n"
     ]
    }
   ],
   "source": [
    "#Creation d'une nouvelle DF temp pour faire la jointure et regrouper les tuples (1 avec 2 , 3 avec 4, ect...)\n",
    "temp = df\n",
    "#On renome les colonnes de temp pour qu'il y'ait pas d'ambiguité\n",
    "temp = temp.withColumnRenamed('kit_id','kit_id_temp')\n",
    "temp = temp.withColumnRenamed('participant_id','participant_id_temp')\n",
    "temp = temp.withColumnRenamed('time','time_temp')\n",
    "temp = temp.withColumnRenamed('lat','lat_temp')\n",
    "temp = temp.withColumnRenamed('lon','lon_temp')\n",
    "temp = temp.withColumnRenamed('PM2-5','PM2-5_temp')\n",
    "temp = temp.withColumnRenamed('PM10','PM10_temp')\n",
    "temp = temp.withColumnRenamed('PM1-0','PM1-0_temp')\n",
    "temp = temp.withColumnRenamed('NO2','NO2_temp')\n",
    "temp = temp.withColumnRenamed('BC','BC_temp')\n",
    "temp = temp.withColumnRenamed('activity','activity_temp')\n",
    "temp = temp.withColumnRenamed('event','event_temp')\n",
    "#temp.printSchema()\n",
    "#df.show()\n",
    "#On decremente le time de temp pour pouvoir faire la jointure avec == (car j'ai pas pu le faire avec == time_temp + 10)\n",
    "temp = temp.withColumn('time_temp', temp.time_temp - 10)\n",
    "#temp.show()\n",
    "#On fait la jointure\n",
    "x = df.join(temp, [df['time'] == temp['time_temp'] ])\n",
    "# On decremente le time_temp pour revenir a un etat cohérent\n",
    "y = x.select(x.lat,x.lon,x['time'],x['time_temp'] + 10, x.lat_temp,x.lon_temp, x['PM2-5'], x['PM2-5_temp'])\n",
    "#y.withColumnRenamed('(time_temp + 10)', 'time_temp')\n",
    "y.printSchema()\n",
    "#x.show()\n",
    "#x.printSchema()\n",
    "#df.show()\n",
    "#df.select(df['time'] + 10).show()"
   ]
  },
  {
   "cell_type": "code",
   "execution_count": 112,
   "metadata": {},
   "outputs": [
    {
     "name": "stdout",
     "output_type": "stream",
     "text": [
      "+----------------+----------------+----------+----------------+----------------+----------------+-----+----------+\n",
      "|             lat|             lon|      time|(time_temp + 10)|        lat_temp|        lon_temp|PM2-5|PM2-5_temp|\n",
      "+----------------+----------------+----------+----------------+----------------+----------------+-----+----------+\n",
      "|48.7717766666667|        2.006005|1573718400|      1573718410|48.7717766666667|        2.006005| null|      null|\n",
      "|48.7717766666667|        2.006005|1573718410|      1573718420|48.7717766666667|        2.006005| null|      null|\n",
      "|48.7717766666667|        2.006005|1573718420|      1573718430|48.7717766666667|        2.006005| null|      null|\n",
      "|48.7717766666667|        2.006005|1573718430|      1573718440|48.7717766666667|        2.006005| null|      null|\n",
      "|48.7717766666667|        2.006005|1573718440|      1573718450|48.7717766666667|        2.006005| null|      null|\n",
      "|48.7717766666667|        2.006005|1573718450|      1573718460|48.7717766666667|        2.006005| null|      null|\n",
      "|48.7717766666667|        2.006005|1573718460|      1573718470|48.7717766666667|        2.006005| null|      null|\n",
      "|48.7717766666667|        2.006005|1573718470|      1573718480|48.7717766666667|        2.006005| null|      null|\n",
      "|48.7717766666667|        2.006005|1573718480|      1573718490|48.7717766666667|        2.006005| null|      null|\n",
      "|48.7717766666667|        2.006005|1573718490|      1573718500|48.7717766666667|        2.006005| null|      null|\n",
      "|48.7717766666667|        2.006005|1573718500|      1573718510|48.7717766666667|        2.006005| null|      null|\n",
      "|48.7717766666667|        2.006005|1573718510|      1573718520|48.7717766666667|        2.006005| null|      null|\n",
      "|48.7717766666667|        2.006005|1573718520|      1573718530|48.7717766666667|        2.006005| null|      null|\n",
      "|48.7717766666667|        2.006005|1573718530|      1573718540|48.7717766666667|        2.006005| null|      null|\n",
      "|48.7717766666667|        2.006005|1573718540|      1573718550|48.7717766666667|        2.006005| null|      null|\n",
      "|48.7717766666667|        2.006005|1573718550|      1573718560|48.7717766666667|        2.006005| null|      null|\n",
      "|48.7717766666667|        2.006005|1573718560|      1573718570|48.7717466666667|2.00590833333333| null|      null|\n",
      "|48.7717466666667|2.00590833333333|1573718570|      1573718580|48.7717466666667|2.00590833333333| null|      null|\n",
      "|48.7717466666667|2.00590833333333|1573718580|      1573718590|       48.771765|2.00590333333333| null|      null|\n",
      "|       48.771765|2.00590333333333|1573718590|      1573718600|       48.771765|2.00590333333333| null|      null|\n",
      "+----------------+----------------+----------+----------------+----------------+----------------+-----+----------+\n",
      "only showing top 20 rows\n",
      "\n"
     ]
    }
   ],
   "source": [
    "#Test affichage si ça a bien marché\n",
    "y.show()"
   ]
  },
  {
   "cell_type": "code",
   "execution_count": 155,
   "metadata": {},
   "outputs": [
    {
     "name": "stdout",
     "output_type": "stream",
     "text": [
      "+---+----+-------------+-----+----------+----------+\n",
      "|  a|   b|            c|    r|        t1|        t2|\n",
      "+---+----+-------------+-----+----------+----------+\n",
      "|  0| 0.0|          2.0|false|1573804800|1573804810|\n",
      "|  0| 0.0|          2.0|false|1573804810|1573804820|\n",
      "|  0| 0.0|          2.0|false|1573804820|1573804830|\n",
      "|  0| 0.0|          2.0|false|1573804830|1573804840|\n",
      "|  0| 0.0|          2.0|false|1573804840|1573804850|\n",
      "|  0| 0.1|-1.57380483E8|false|1573804850|1573804860|\n",
      "|  0| 0.0|          3.0|false|1573804860|1573804870|\n",
      "|  0| 0.0|          3.0|false|1573804870|1573804880|\n",
      "|  0| 0.0|          3.0|false|1573804880|1573804890|\n",
      "|  0| 0.0|          3.0|false|1573804890|1573804900|\n",
      "|  0| 0.0|          3.0|false|1573804900|1573804910|\n",
      "|  0|-0.1| 1.57380494E8|false|1573804910|1573804920|\n",
      "|  0| 0.0|          2.0|false|1573804920|1573804930|\n",
      "|  0| 0.0|          2.0|false|1573804930|1573804940|\n",
      "|  0| 0.0|          2.0|false|1573804940|1573804950|\n",
      "|  0| 0.0|          2.0|false|1573804950|1573804960|\n",
      "|  0| 0.0|          2.0|false|1573804960|1573804970|\n",
      "|  0| 0.1|-1.57380495E8|false|1573804970|1573804980|\n",
      "|  0| 0.1|-1.57380495E8|false|1573804970|1573804980|\n",
      "|  0| 0.0|          3.0|false|1573804980|1573804990|\n",
      "+---+----+-------------+-----+----------+----------+\n",
      "only showing top 20 rows\n",
      "\n"
     ]
    }
   ],
   "source": [
    "#On filtre les null\n",
    "y_without_null = y.where(y['PM2-5'].isNotNull() & y['PM2-5_temp'].isNotNull())\n",
    "#y_without_null.show()\n",
    "urealPM2_5 = y_without_null.select(y_without_null.columns).rdd.map(lambda r : (0, ((r[7]-r[6])/(r[3]-r[2])), (((r[6]*r[3])-(r[7]*r[2]))/((r[3]-r[2]))),False,r[2],r[3])).toDF()\n",
    "#On renome les colonnes de UREAL (car ça a était modifié)\n",
    "urealPM2_5 = urealPM2_5.withColumnRenamed('_1','a')\n",
    "urealPM2_5 = urealPM2_5.withColumnRenamed('_2','b')\n",
    "urealPM2_5 = urealPM2_5.withColumnRenamed('_3','c')\n",
    "urealPM2_5 = urealPM2_5.withColumnRenamed('_4','r')\n",
    "urealPM2_5 = urealPM2_5.withColumnRenamed('_5','t1')\n",
    "urealPM2_5 = urealPM2_5.withColumnRenamed('_6','t2')\n",
    "#Et la on arrive a avoir UREAL de PM2.5\n",
    "urealPM2_5.show()"
   ]
  },
  {
   "cell_type": "code",
   "execution_count": null,
   "metadata": {},
   "outputs": [],
   "source": []
  }
 ],
 "metadata": {
  "kernelspec": {
   "display_name": "Python 3",
   "language": "python",
   "name": "python3"
  },
  "language_info": {
   "codemirror_mode": {
    "name": "ipython",
    "version": 3
   },
   "file_extension": ".py",
   "mimetype": "text/x-python",
   "name": "python",
   "nbconvert_exporter": "python",
   "pygments_lexer": "ipython3",
   "version": "3.7.3"
  }
 },
 "nbformat": 4,
 "nbformat_minor": 2
}
