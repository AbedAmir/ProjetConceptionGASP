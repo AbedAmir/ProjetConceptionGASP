{
 "cells": [
  {
   "cell_type": "code",
   "execution_count": 1,
   "metadata": {},
   "outputs": [],
   "source": [
    "from pyspark.sql.functions import col, when, to_timestamp, unix_timestamp\n",
    "from pyspark.sql.types import DoubleType\n",
    "\n",
    "from pyspark import SparkContext, SparkConf\n",
    "from pyspark.sql import SparkSession\n",
    "# conf = pyspark.SparkConf().setAppName('appName').setMaster('local')\n",
    "sc = SparkContext.getOrCreate()\n",
    "# spark = SparkSession(sc)"
   ]
  },
  {
   "cell_type": "code",
   "execution_count": 2,
   "metadata": {},
   "outputs": [],
   "source": [
    "from pyspark.sql.types import (StructField,StructType, BooleanType, DoubleType,LongType, IntegerType)\n",
    "from pyspark.sql.types import *"
   ]
  },
  {
   "cell_type": "code",
   "execution_count": 3,
   "metadata": {},
   "outputs": [],
   "source": [
    "#///////////////////////////////////////////////////////////////////////////////////////////////////////////////////////////////\n",
    "#///////////////////////////////////////////////////////////////////////////////////////////////////////////////////////////////\n",
    "#///////////////////////////////////////////////////////////////////////////////////////////////////////////////////////////////\n",
    "#///////////////////////////////////////////////////////////////////////////////////////////////////////////////////////////////"
   ]
  },
  {
   "cell_type": "code",
   "execution_count": 4,
   "metadata": {},
   "outputs": [],
   "source": [
    "# Définition du type : SPOINT\n",
    "\n",
    "spoint_schema = [StructField('lat', FloatType(),True),\n",
    "                 StructField('lon', FloatType(),True)]\n",
    "spoint = StructType(fields=spoint_schema)"
   ]
  },
  {
   "cell_type": "code",
   "execution_count": 5,
   "metadata": {},
   "outputs": [],
   "source": [
    "# Définition du type : SECTION\n",
    "\n",
    "section_schema = [StructField('lat1', FloatType(),True),\n",
    "                  StructField('lon1', FloatType(),True),\n",
    "                  StructField('lat2', FloatType(),True),\n",
    "                  StructField('lon2', FloatType(),True)]\n",
    "section = StructType(fields=section_schema)"
   ]
  },
  {
   "cell_type": "code",
   "execution_count": 6,
   "metadata": {},
   "outputs": [],
   "source": [
    "# Définition du type : SLINE\n",
    "\n",
    "sline_schema = [StructField('rints', ArrayType(section),True)]\n",
    "sline = StructType(fields=sline_schema)"
   ]
  },
  {
   "cell_type": "code",
   "execution_count": 7,
   "metadata": {},
   "outputs": [],
   "source": [
    "# Définition du type : USPOINT\n",
    "\n",
    "uspoint_schema = [StructField('t1', LongType(),True),\n",
    "                  StructField('t2', LongType(),True),\n",
    "                  StructField('lat1', FloatType(),True),\n",
    "                  StructField('lon1', FloatType(),True),\n",
    "                  StructField('lat2', FloatType(),True),\n",
    "                  StructField('lon2', FloatType(),True)]\n",
    "uspoint = StructType(fields=uspoint_schema)"
   ]
  },
  {
   "cell_type": "code",
   "execution_count": 8,
   "metadata": {},
   "outputs": [],
   "source": [
    "# Définition du type : MSPOINT\n",
    "\n",
    "mspoint_schema = [StructField('rints', ArrayType(uspoint),True)]\n",
    "mspoint = StructType(fields=mspoint_schema)"
   ]
  },
  {
   "cell_type": "code",
   "execution_count": 9,
   "metadata": {},
   "outputs": [],
   "source": [
    "# Définition du type : UINT\n",
    "\n",
    "uint_schema = [StructField('val', IntegerType(),True),\n",
    "               StructField('t1', LongType(),True),\n",
    "               StructField('t2', LongType(),True)]\n",
    "uint = StructType(fields=uint_schema)"
   ]
  },
  {
   "cell_type": "code",
   "execution_count": 10,
   "metadata": {},
   "outputs": [],
   "source": [
    "#///////////////////////////////////////////////////////////////////////////////////////////////////////////////////////////////\n",
    "#///////////////////////////////////////////////////////////////////////////////////////////////////////////////////////////////\n",
    "#///////////////////////////////////////////////////////////////////////////////////////////////////////////////////////////////\n",
    "#///////////////////////////////////////////////////////////////////////////////////////////////////////////////////////////////"
   ]
  },
  {
   "cell_type": "code",
   "execution_count": 11,
   "metadata": {},
   "outputs": [],
   "source": [
    "# Définition du type : MINT\n",
    "\n",
    "mint_schema = [StructField('units', ArrayType(uint),True)]\n",
    "mint = StructType(fields=mint_schema)"
   ]
  },
  {
   "cell_type": "code",
   "execution_count": 12,
   "metadata": {},
   "outputs": [],
   "source": [
    "# Définition du type : USTRING\n",
    "\n",
    "ustring_schema = [StructField('val', StringType(),True),\n",
    "               StructField('t1', LongType(),True),\n",
    "               StructField('t2', LongType(),True)]\n",
    "ustring = StructType(fields=ustring_schema)"
   ]
  },
  {
   "cell_type": "code",
   "execution_count": 13,
   "metadata": {},
   "outputs": [],
   "source": [
    "# Définition du type : MSTRING\n",
    "\n",
    "mstring_schema = [StructField('units', ArrayType(ustring),True)]\n",
    "mstring = StructType(fields=mstring_schema)"
   ]
  },
  {
   "cell_type": "code",
   "execution_count": 14,
   "metadata": {},
   "outputs": [],
   "source": [
    "# Définition du type : UREAL\n",
    "\n",
    "ureal_schema = [StructField('a', FloatType(),True),\n",
    "              StructField('b', FloatType(),True),\n",
    "              StructField('c', FloatType(),True),\n",
    "              StructField('r', BooleanType(),True),\n",
    "              StructField('t1', LongType(),True),\n",
    "              StructField('t2', LongType(),True)]\n",
    "ureal = StructType(fields=ureal_schema)"
   ]
  },
  {
   "cell_type": "code",
   "execution_count": 15,
   "metadata": {},
   "outputs": [],
   "source": [
    "# Définition du type : MREAL\n",
    "\n",
    "mreal_schema = [StructField('units', ArrayType(ureal),True)]\n",
    "mreal = StructType(fields=mreal_schema)"
   ]
  },
  {
   "cell_type": "code",
   "execution_count": 16,
   "metadata": {},
   "outputs": [],
   "source": [
    "# Définition du type : USINT\n",
    "\n",
    "usint_schema = [StructField('val', IntegerType(),True),\n",
    "              StructField('interval', section,True)]\n",
    "usint = StructType(fields=usint_schema)"
   ]
  },
  {
   "cell_type": "code",
   "execution_count": 17,
   "metadata": {},
   "outputs": [],
   "source": [
    "#///////////////////////////////////////////////////////////////////////////////////////////////////////////////////////////////\n",
    "#///////////////////////////////////////////////////////////////////////////////////////////////////////////////////////////////\n",
    "#///////////////////////////////////////////////////////////////////////////////////////////////////////////////////////////////\n",
    "#///////////////////////////////////////////////////////////////////////////////////////////////////////////////////////////////"
   ]
  },
  {
   "cell_type": "code",
   "execution_count": 18,
   "metadata": {},
   "outputs": [],
   "source": [
    "# Définition du type : MSINT\n",
    "\n",
    "msint_schema = [StructField('units', ArrayType(usint),False)]\n",
    "msint = StructType(fields=msint_schema)"
   ]
  },
  {
   "cell_type": "code",
   "execution_count": 19,
   "metadata": {},
   "outputs": [],
   "source": [
    "# Définition du type : USSTRING\n",
    "\n",
    "usstring_schema = [StructField('val', StringType(),True),\n",
    "              StructField('interval', section,True)]\n",
    "usstring = StructType(fields=usstring_schema)"
   ]
  },
  {
   "cell_type": "code",
   "execution_count": 20,
   "metadata": {},
   "outputs": [],
   "source": [
    "# Définition du type : MSSTRING\n",
    "\n",
    "msstring_schema = [StructField('units', ArrayType(usstring),False)]\n",
    "msstring = StructType(fields=msstring_schema)"
   ]
  },
  {
   "cell_type": "code",
   "execution_count": 21,
   "metadata": {},
   "outputs": [],
   "source": [
    "# Définition du type : USREAL\n",
    "\n",
    "usreal_schema = [StructField('a', FloatType(),True),\n",
    "                 StructField('b', FloatType(),True),\n",
    "                 StructField('c', FloatType(),True),\n",
    "                 StructField('r', BooleanType(),True),\n",
    "                 StructField('interval', section,True)]\n",
    "usreal = StructType(fields=usreal_schema)"
   ]
  },
  {
   "cell_type": "code",
   "execution_count": 22,
   "metadata": {},
   "outputs": [],
   "source": [
    "# Définition du type : MSREAL\n",
    "\n",
    "msreal_schema = [StructField('units', ArrayType(usreal),False)]\n",
    "msreal = StructType(fields=msreal_schema)"
   ]
  },
  {
   "cell_type": "code",
   "execution_count": 23,
   "metadata": {},
   "outputs": [],
   "source": [
    "#///////////////////////////////////////////////////////////////////////////////////////////////////////////////////////////////\n",
    "#///////////////////////////////////////////////////////////////////////////////////////////////////////////////////////////////\n",
    "#///////////////////////////////////////////////////////////////////////////////////////////////////////////////////////////////\n",
    "#///////////////////////////////////////////////////////////////////////////////////////////////////////////////////////////////"
   ]
  },
  {
   "cell_type": "code",
   "execution_count": 24,
   "metadata": {},
   "outputs": [],
   "source": [
    "# Définition du type : INTIME\n",
    "\n",
    "intime_schema = [StructField('val', FloatType(),True),\n",
    "                 StructField('t1', LongType(),True)]\n",
    "intime = StructType(fields=intime_schema)"
   ]
  },
  {
   "cell_type": "code",
   "execution_count": 25,
   "metadata": {},
   "outputs": [],
   "source": [
    "# Définition du type : INSPOINT\n",
    "\n",
    "inspoint_schema = [StructField('val', FloatType(),True),\n",
    "                   StructField('sp', spoint,True)]\n",
    "inspoint = StructType(fields=inspoint_schema)"
   ]
  },
  {
   "cell_type": "code",
   "execution_count": 26,
   "metadata": {},
   "outputs": [],
   "source": [
    "#///////////////////////////////////////////////////////////////////////////////////////////////////////////////////////////////\n",
    "#///////////////////////////////////////////////////////////////////////////////////////////////////////////////////////////////\n",
    "#///////////////////////////////////////////////////////////////////////////////////////////////////////////////////////////////\n",
    "#///////////////////////////////////////////////////////////////////////////////////////////////////////////////////////////////"
   ]
  },
  {
   "cell_type": "code",
   "execution_count": 27,
   "metadata": {},
   "outputs": [
    {
     "name": "stdout",
     "output_type": "stream",
     "text": [
      "root\n",
      " |-- kit_id: integer (nullable = true)\n",
      " |-- participant_id: integer (nullable = true)\n",
      " |-- time: string (nullable = true)\n",
      " |-- lat: double (nullable = true)\n",
      " |-- lon: double (nullable = true)\n",
      " |-- PM2-5: string (nullable = true)\n",
      " |-- PM10: string (nullable = true)\n",
      " |-- PM1-0: string (nullable = true)\n",
      " |-- NO2: string (nullable = true)\n",
      " |-- BC: string (nullable = true)\n",
      " |-- activity: string (nullable = true)\n",
      " |-- event: string (nullable = true)\n",
      "\n"
     ]
    }
   ],
   "source": [
    "# Lecture Data\n",
    "df = spark.read.option(\"header\",True).option(\"inferSchema\",True).csv(\"VGP-week3-data.csv\")\n",
    "df.printSchema()"
   ]
  },
  {
   "cell_type": "code",
   "execution_count": 28,
   "metadata": {},
   "outputs": [],
   "source": [
    "#On change les string \"NULL\" en null\n",
    "df = df.withColumn((\"BC\"), when(col(\"BC\") == \"NULL\", None).otherwise(col(\"BC\")))\n",
    "df = df.withColumn((\"PM2-5\"), when(col(\"PM2-5\") == \"NULL\", None).otherwise(col(\"PM2-5\")))\n",
    "df = df.withColumn((\"PM10\"),  when(col(\"PM10\") == \"NULL\",  None).otherwise(col(\"PM10\")))\n",
    "df = df.withColumn((\"PM1-0\"), when(col(\"PM1-0\") == \"NULL\", None).otherwise(col(\"PM1-0\")))\n",
    "df = df.withColumn((\"NO2\"),   when(col(\"NO2\") == \"NULL\",   None).otherwise(col(\"NO2\")))\n",
    "df = df.withColumn((\"activity\"), when(col(\"activity\") == \"NULL\", None).otherwise(col(\"activity\")))\n",
    "df = df.withColumn((\"event\"), when(col(\"event\") == \"NULL\", None).otherwise(col(\"event\")))"
   ]
  },
  {
   "cell_type": "code",
   "execution_count": 29,
   "metadata": {},
   "outputs": [
    {
     "name": "stdout",
     "output_type": "stream",
     "text": [
      "+------+--------------+----------+----------------+----------------+-----+----+-----+----+----+--------+-----+\n",
      "|kit_id|participant_id|      time|             lat|             lon|PM2-5|PM10|PM1-0| NO2|  BC|activity|event|\n",
      "+------+--------------+----------+----------------+----------------+-----+----+-----+----+----+--------+-----+\n",
      "|    80|       9999964|1573718400|48.7717766666667|        2.006005| null|null| null|null|null|    null| null|\n",
      "|    80|       9999964|1573718410|48.7717766666667|        2.006005| null|null| null|null|null|    null| null|\n",
      "|    80|       9999964|1573718420|48.7717766666667|        2.006005| null|null| null|null|null|    null| null|\n",
      "|    80|       9999964|1573718430|48.7717766666667|        2.006005| null|null| null|null|null|    null| null|\n",
      "|    80|       9999964|1573718440|48.7717766666667|        2.006005| null|null| null|null|null|    null| null|\n",
      "|    80|       9999964|1573718450|48.7717766666667|        2.006005| null|null| null|null|null|    null| null|\n",
      "|    80|       9999964|1573718460|48.7717766666667|        2.006005| null|null| null|null|null|    null| null|\n",
      "|    80|       9999964|1573718470|48.7717766666667|        2.006005| null|null| null|null|null|    null| null|\n",
      "|    80|       9999964|1573718480|48.7717766666667|        2.006005| null|null| null|null|null|    null| null|\n",
      "|    80|       9999964|1573718490|48.7717766666667|        2.006005| null|null| null|null|null|    null| null|\n",
      "|    80|       9999964|1573718500|48.7717766666667|        2.006005| null|null| null|null|null|    null| null|\n",
      "|    80|       9999964|1573718510|48.7717766666667|        2.006005| null|null| null|null|null|    null| null|\n",
      "|    80|       9999964|1573718520|48.7717766666667|        2.006005| null|null| null|null|null|    null| null|\n",
      "|    80|       9999964|1573718530|48.7717766666667|        2.006005| null|null| null|null|null|    null| null|\n",
      "|    80|       9999964|1573718540|48.7717766666667|        2.006005| null|null| null|null|null|    null| null|\n",
      "|    80|       9999964|1573718550|48.7717766666667|        2.006005| null|null| null|null|null|    null| null|\n",
      "|    80|       9999964|1573718560|48.7717766666667|        2.006005| null|null| null|null|null|    null| null|\n",
      "|    80|       9999964|1573718570|48.7717466666667|2.00590833333333| null|null| null|null|null|    null| null|\n",
      "|    80|       9999964|1573718580|48.7717466666667|2.00590833333333| null|null| null|null|null|    null| null|\n",
      "|    80|       9999964|1573718590|       48.771765|2.00590333333333| null|null| null|null|null|    null| null|\n",
      "+------+--------------+----------+----------------+----------------+-----+----+-----+----+----+--------+-----+\n",
      "only showing top 20 rows\n",
      "\n",
      "root\n",
      " |-- kit_id: integer (nullable = true)\n",
      " |-- participant_id: integer (nullable = true)\n",
      " |-- time: long (nullable = true)\n",
      " |-- lat: double (nullable = true)\n",
      " |-- lon: double (nullable = true)\n",
      " |-- PM2-5: string (nullable = true)\n",
      " |-- PM10: string (nullable = true)\n",
      " |-- PM1-0: string (nullable = true)\n",
      " |-- NO2: string (nullable = true)\n",
      " |-- BC: string (nullable = true)\n",
      " |-- activity: string (nullable = true)\n",
      " |-- event: string (nullable = true)\n",
      "\n"
     ]
    }
   ],
   "source": [
    "df = df.withColumn('time',unix_timestamp('time', 'yyyy-MM-dd HH:mm:ss').alias('time'))\n",
    "df.show()\n",
    "df.printSchema()"
   ]
  },
  {
   "cell_type": "code",
   "execution_count": 30,
   "metadata": {},
   "outputs": [
    {
     "name": "stdout",
     "output_type": "stream",
     "text": [
      "root\n",
      " |-- kit_id: integer (nullable = true)\n",
      " |-- participant_id: integer (nullable = true)\n",
      " |-- time: long (nullable = true)\n",
      " |-- lat: float (nullable = true)\n",
      " |-- lon: float (nullable = true)\n",
      " |-- PM2-5: float (nullable = true)\n",
      " |-- PM10: float (nullable = true)\n",
      " |-- PM1-0: float (nullable = true)\n",
      " |-- NO2: float (nullable = true)\n",
      " |-- BC: float (nullable = true)\n",
      " |-- activity: string (nullable = true)\n",
      " |-- event: string (nullable = true)\n",
      "\n"
     ]
    }
   ],
   "source": [
    "#Conversion des types PM2.5, BC ... en double\n",
    "#Remarque dans notre fichier de donnée j'ai eliminer le \"+00\" a chaque fois\n",
    "df = df.withColumn(\"PM2-5\",df[\"PM2-5\"].cast(FloatType()))\n",
    "df = df.withColumn(\"PM10\",df[\"PM10\"].cast(FloatType()))\n",
    "df = df.withColumn(\"PM1-0\",df[\"PM1-0\"].cast(FloatType()))\n",
    "df = df.withColumn(\"NO2\",df[\"NO2\"].cast(FloatType()))\n",
    "df = df.withColumn(\"BC\",df[\"BC\"].cast(FloatType()))\n",
    "df = df.withColumn(\"lat\",df[\"lat\"].cast(FloatType()))\n",
    "df = df.withColumn(\"lon\",df[\"lon\"].cast(FloatType()))\n",
    "df = df.withColumn(\"time\",df[\"time\"].cast(LongType()))\n",
    "df.printSchema()"
   ]
  },
  {
   "cell_type": "code",
   "execution_count": 31,
   "metadata": {},
   "outputs": [
    {
     "name": "stdout",
     "output_type": "stream",
     "text": [
      "+------+--------------+----------+---------+---------+-----+----+-----+----+----+--------+-----+\n",
      "|kit_id|participant_id|      time|      lat|      lon|PM2_5|PM10|PM1_0| NO2|  BC|activity|event|\n",
      "+------+--------------+----------+---------+---------+-----+----+-----+----+----+--------+-----+\n",
      "|    80|       9999964|1573718400| 48.77178| 2.006005| null|null| null|null|null|    null| null|\n",
      "|    80|       9999964|1573718410| 48.77178| 2.006005| null|null| null|null|null|    null| null|\n",
      "|    80|       9999964|1573718420| 48.77178| 2.006005| null|null| null|null|null|    null| null|\n",
      "|    80|       9999964|1573718430| 48.77178| 2.006005| null|null| null|null|null|    null| null|\n",
      "|    80|       9999964|1573718440| 48.77178| 2.006005| null|null| null|null|null|    null| null|\n",
      "|    80|       9999964|1573718450| 48.77178| 2.006005| null|null| null|null|null|    null| null|\n",
      "|    80|       9999964|1573718460| 48.77178| 2.006005| null|null| null|null|null|    null| null|\n",
      "|    80|       9999964|1573718470| 48.77178| 2.006005| null|null| null|null|null|    null| null|\n",
      "|    80|       9999964|1573718480| 48.77178| 2.006005| null|null| null|null|null|    null| null|\n",
      "|    80|       9999964|1573718490| 48.77178| 2.006005| null|null| null|null|null|    null| null|\n",
      "|    80|       9999964|1573718500| 48.77178| 2.006005| null|null| null|null|null|    null| null|\n",
      "|    80|       9999964|1573718510| 48.77178| 2.006005| null|null| null|null|null|    null| null|\n",
      "|    80|       9999964|1573718520| 48.77178| 2.006005| null|null| null|null|null|    null| null|\n",
      "|    80|       9999964|1573718530| 48.77178| 2.006005| null|null| null|null|null|    null| null|\n",
      "|    80|       9999964|1573718540| 48.77178| 2.006005| null|null| null|null|null|    null| null|\n",
      "|    80|       9999964|1573718550| 48.77178| 2.006005| null|null| null|null|null|    null| null|\n",
      "|    80|       9999964|1573718560| 48.77178| 2.006005| null|null| null|null|null|    null| null|\n",
      "|    80|       9999964|1573718570|48.771748|2.0059083| null|null| null|null|null|    null| null|\n",
      "|    80|       9999964|1573718580|48.771748|2.0059083| null|null| null|null|null|    null| null|\n",
      "|    80|       9999964|1573718590|48.771767|2.0059032| null|null| null|null|null|    null| null|\n",
      "+------+--------------+----------+---------+---------+-----+----+-----+----+----+--------+-----+\n",
      "only showing top 20 rows\n",
      "\n"
     ]
    },
    {
     "data": {
      "text/plain": [
       "59972"
      ]
     },
     "execution_count": 31,
     "metadata": {},
     "output_type": "execute_result"
    }
   ],
   "source": [
    "def change_column_names(columns):\n",
    "    return [c.replace('-', '_') for c in columns]\n",
    "\n",
    "df = df.toDF(*change_column_names(df.columns))\n",
    "df.show()\n",
    "df.count()"
   ]
  },
  {
   "cell_type": "code",
   "execution_count": 43,
   "metadata": {},
   "outputs": [],
   "source": [
    "liste_id = df.select('participant_id').distinct().rdd.map(lambda r: r[0]).collect()\n",
    "colonnes_names = ['PM2_5','PM10','PM1_0','NO2','BC','activity','event']"
   ]
  },
  {
   "cell_type": "code",
   "execution_count": 44,
   "metadata": {},
   "outputs": [
    {
     "name": "stdout",
     "output_type": "stream",
     "text": [
      "[9999920, 9999955, 9999975, 9999936, 9999930, 9999960, 9999964, 9999962, 999992]\n",
      "['PM2_5', 'PM10', 'PM1_0', 'NO2', 'BC', 'activity', 'event']\n"
     ]
    }
   ],
   "source": [
    "# Affichage de tout les ID des participants \n",
    "print(liste_id)\n",
    "print(colonnes_names)"
   ]
  },
  {
   "cell_type": "code",
   "execution_count": 101,
   "metadata": {},
   "outputs": [
    {
     "name": "stdout",
     "output_type": "stream",
     "text": [
      "+--------------------+\n",
      "|               units|\n",
      "+--------------------+\n",
      "|[[0.0, 0.0, 19.0,...|\n",
      "|[[0.0, -0.3, 4.72...|\n",
      "|[[0.0, 0.0, 16.0,...|\n",
      "|[[0.0, 0.0, 16.0,...|\n",
      "|[[0.0, 0.0, 16.0,...|\n",
      "|[[0.0, 0.0, 16.0,...|\n",
      "|[[0.0, 0.0, 16.0,...|\n",
      "|[[0.0, -0.1, 1.57...|\n",
      "|[[0.0, 0.0, 15.0,...|\n",
      "|[[0.0, 0.0, 15.0,...|\n",
      "|[[0.0, 0.0, 15.0,...|\n",
      "|[[0.0, 0.0, 15.0,...|\n",
      "|[[0.0, 0.0, 15.0,...|\n",
      "|[[0.0, 0.0, 15.0,...|\n",
      "|[[0.0, 0.0, 15.0,...|\n",
      "|[[0.0, 0.0, 15.0,...|\n",
      "|[[0.0, 0.0, 15.0,...|\n",
      "|[[0.0, 0.0, 15.0,...|\n",
      "|[[0.0, 0.0, 15.0,...|\n",
      "|[[0.0, -0.1, 1.57...|\n",
      "+--------------------+\n",
      "only showing top 20 rows\n",
      "\n"
     ]
    }
   ],
   "source": [
    "def get_MReal(id_particip, colonne):\n",
    "    #On test si le participant et la colonne existent\n",
    "    if ((id_particip in liste_id) and (colonne in colonnes_names)):\n",
    "        # On enleve les espace\n",
    "        colonne = colonne.strip()\n",
    "        # On recupere le bon participant, la colonne sans les null et on tri par rapport au timestamp\n",
    "        df_one_participant = df.where((df[colonne].isNotNull()) & (df['participant_id'] == id_particip)).sort(\"time\")\n",
    "        # A partir de la je reprend ma methode\n",
    "    \n",
    "        #Creation d'une nouvelle DF temp pour faire la jointure et regrouper les tuples (1 avec 2 , 3 avec 4, ect...)\n",
    "        temp = df_one_participant\n",
    "        #On renome les colonnes de temp pour qu'il y'ait pas d'ambiguité\n",
    "        temp = temp.withColumnRenamed('kit_id','kit_id_temp')\n",
    "        temp = temp.withColumnRenamed('participant_id','participant_id_temp')\n",
    "        temp = temp.withColumnRenamed('time','time_temp')\n",
    "        temp = temp.withColumnRenamed('lat','lat_temp')\n",
    "        temp = temp.withColumnRenamed('lon','lon_temp')\n",
    "        temp = temp.withColumnRenamed('PM2_5','PM2_5_temp')\n",
    "        temp = temp.withColumnRenamed('PM10','PM10_temp')\n",
    "        temp = temp.withColumnRenamed('PM1_0','PM1_0_temp')\n",
    "        temp = temp.withColumnRenamed('NO2','NO2_temp')\n",
    "        temp = temp.withColumnRenamed('BC','BC_temp')\n",
    "        temp = temp.withColumnRenamed('activity','activity_temp')\n",
    "        temp = temp.withColumnRenamed('event','event_temp')\n",
    "        \n",
    "        #On decremente le time de temp pour pouvoir faire la jointure avec == (car j'ai pas pu le faire avec == time_temp + 10)\n",
    "        temp = temp.withColumn('time_temp', temp.time_temp - 10)\n",
    "        #On fait la jointure\n",
    "        #On fais le rename ici car y'avais un bug de spark \n",
    "        df_one_participant = df_one_participant.withColumnRenamed('time','time')\n",
    "        x = df_one_participant.join(temp, [temp['time_temp'] == df_one_participant['time'] ])\n",
    "        # On decremente le time_temp pour revenir a un etat cohérent\n",
    "        y = x.select(x.lat,x.lon,x['time'],x['time_temp'] + 10, x.lat_temp,x.lon_temp, x['PM2_5'], x['PM2_5_temp'], x['PM10'], x['PM10_temp'], x['PM1_0'], x['PM1_0_temp'], x['NO2'], x['NO2_temp'], x['BC'], x['BC_temp'], x['activity'], x['activity_temp'], x['event'], x['event_temp'])\n",
    "        \n",
    "        #Le map des differents colonnes  \n",
    "        if (colonne == \"PM2_5\"): \n",
    "            rdd_pm25 = y.rdd.map(lambda r :[[(0.0, ((r[7]-r[6])/(r[3]-r[2])), (((r[6]*r[3])-(r[7]*r[2]))/((r[3]-r[2]))),False,r[2],r[3])]])\n",
    "            return spark.createDataFrame(rdd_pm25,mreal)\n",
    "        elif (colonne == \"PM10\"): \n",
    "            rdd_pm10 = y.select(y.columns).rdd.map(lambda r : [[(0.0, ((r[9]-r[8])/(r[3]-r[2])), (((r[8]*r[3])-(r[9]*r[2]))/((r[3]-r[2]))),False,r[2],r[3])]])\n",
    "            return spark.createDataFrame(rdd_pm10,mreal)\n",
    "        elif (colonne == \"PM1_0\"): \n",
    "            rdd_pm1_0 = y.select(y.columns).rdd.map(lambda r :[[(0.0, ((r[11]-r[10])/(r[3]-r[2])), (((r[10]*r[3])-(r[11]*r[2]))/((r[3]-r[2]))), False, r[2], r[3])]])\n",
    "            return spark.createDataFrame(rdd_pm1_0,mreal)\n",
    "        elif (colonne == \"NO2\"): \n",
    "            rdd_no2 = y.select(y.columns).rdd.map(lambda r :  [[(0.0, ((r[13]-r[12])/(r[3]-r[2])), (((r[12]*r[3])-(r[13]*r[2]))/((r[3]-r[2]))), False, r[2], r[3])]])\n",
    "            return spark.createDataFrame(rdd_no2,mreal)\n",
    "        elif (colonne == \"BC\"): \n",
    "            rdd_bc = y.select(y.columns).rdd.map(lambda r :   [[(0.0, ((r[15]-r[14])/(r[3]-r[2])), (((r[14]*r[3])-(r[15]*r[2]))/((r[3]-r[2]))), False, r[2], r[3])]])\n",
    "            return spark.createDataFrame(rdd_bc,mreal)\n",
    "        elif (colonne == \"activity\"): \n",
    "            rdd_activity = y.select(y.columns).rdd.map(lambda r : [[(r[16], r[2], r[3])]])\n",
    "            return spark.createDataFrame(rdd_activity, mstring)\n",
    "        elif (colonne == \"event\"): \n",
    "            rdd_event = y.select(y.columns).rdd.map(lambda r : [[(r[18], r[2], r[3])]])\n",
    "            return spark.createDataFrame(rdd_event, mstring)\n",
    "    else : \n",
    "        #print(\"Ce participant n'existe pas || ou la colonne n'existe pas\")\n",
    "        raise ValueError(\"Ce participant n'existe pas || ou la colonne n'existe pas\")\n",
    "\n",
    "    \n",
    "a = get_MReal(9999920,\"PM1_0\")\n",
    "a.show()"
   ]
  },
  {
   "cell_type": "code",
   "execution_count": null,
   "metadata": {},
   "outputs": [],
   "source": []
  }
 ],
 "metadata": {
  "kernelspec": {
   "display_name": "Python 3",
   "language": "python",
   "name": "python3"
  },
  "language_info": {
   "codemirror_mode": {
    "name": "ipython",
    "version": 3
   },
   "file_extension": ".py",
   "mimetype": "text/x-python",
   "name": "python",
   "nbconvert_exporter": "python",
   "pygments_lexer": "ipython3",
   "version": "3.7.3"
  }
 },
 "nbformat": 4,
 "nbformat_minor": 2
}
