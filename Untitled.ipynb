{
 "cells": [
  {
   "cell_type": "code",
   "execution_count": 55,
   "metadata": {},
   "outputs": [
    {
     "name": "stdout",
     "output_type": "stream",
     "text": [
      "root\n",
      " |-- kit_id: integer (nullable = true)\n",
      " |-- participant_id: integer (nullable = true)\n",
      " |-- time: string (nullable = true)\n",
      " |-- lat: double (nullable = true)\n",
      " |-- lon: double (nullable = true)\n",
      " |-- PM2-5: string (nullable = true)\n",
      " |-- PM10: string (nullable = true)\n",
      " |-- PM1-0: string (nullable = true)\n",
      " |-- NO2: string (nullable = true)\n",
      " |-- BC: string (nullable = true)\n",
      " |-- activity: string (nullable = true)\n",
      " |-- event: string (nullable = true)\n",
      "\n"
     ]
    }
   ],
   "source": [
    "from pyspark import SparkContext, SparkConf\n",
    "from pyspark.sql.functions import col, when\n",
    "sc = SparkContext.getOrCreate()\n",
    "data = spark.read.option(\"header\",True).option(\"inferSchema\",True).csv(\"C:/Users/Winsido/Desktop/VGP-week3-data.csv\")\n",
    "data.printSchema()"
   ]
  },
  {
   "cell_type": "code",
   "execution_count": 57,
   "metadata": {},
   "outputs": [],
   "source": [
    "df = df.withColumn(\n",
    "    (\"PM2-5\"),\n",
    "    when(\n",
    "        col(\"PM2-5\") == \"NULL\",\n",
    "        None\n",
    "    ).otherwise(col(\"PM2-5\"))\n",
    ")\n",
    "df = df.withColumn(\n",
    "    (\"PM10\"),\n",
    "    when(\n",
    "        col(\"PM10\") == \"NULL\",\n",
    "        None\n",
    "    ).otherwise(col(\"PM10\"))\n",
    ")\n",
    "df = df.withColumn(\n",
    "    (\"PM1-0\"),\n",
    "    when(\n",
    "        col(\"PM1-0\") == \"NULL\",\n",
    "        None\n",
    "    ).otherwise(col(\"PM1-0\"))\n",
    ")\n",
    "df = df.withColumn(\n",
    "    (\"NO2\"),\n",
    "    when(\n",
    "        col(\"NO2\") == \"NULL\",\n",
    "        None\n",
    "    ).otherwise(col(\"NO2\"))\n",
    ")\n",
    "df = df.withColumn(\n",
    "    (\"activity\"),\n",
    "    when(\n",
    "        col(\"activity\") == \"NULL\",\n",
    "        None\n",
    "    ).otherwise(col(\"activity\"))\n",
    ")\n",
    "df = df.withColumn(\n",
    "    (\"event\"),\n",
    "    when(\n",
    "        col(\"event\") == \"NULL\",\n",
    "        None\n",
    "    ).otherwise(col(\"event\"))\n",
    ")"
   ]
  },
  {
   "cell_type": "code",
   "execution_count": 56,
   "metadata": {},
   "outputs": [
    {
     "name": "stdout",
     "output_type": "stream",
     "text": [
      "+------+--------------+--------------------+----------------+----------------+-----+----+-----+----+----+--------+-----+\n",
      "|kit_id|participant_id|                time|             lat|             lon|PM2-5|PM10|PM1-0| NO2|  BC|activity|event|\n",
      "+------+--------------+--------------------+----------------+----------------+-----+----+-----+----+----+--------+-----+\n",
      "|    80|       9999964|2019-11-14 09:00:...|48.7717766666667|        2.006005| NULL|NULL| NULL|NULL|null|    NULL| NULL|\n",
      "|    80|       9999964|2019-11-14 09:00:...|48.7717766666667|        2.006005| NULL|NULL| NULL|NULL|null|    NULL| NULL|\n",
      "|    80|       9999964|2019-11-14 09:00:...|48.7717766666667|        2.006005| NULL|NULL| NULL|NULL|null|    NULL| NULL|\n",
      "|    80|       9999964|2019-11-14 09:00:...|48.7717766666667|        2.006005| NULL|NULL| NULL|NULL|null|    NULL| NULL|\n",
      "|    80|       9999964|2019-11-14 09:00:...|48.7717766666667|        2.006005| NULL|NULL| NULL|NULL|null|    NULL| NULL|\n",
      "|    80|       9999964|2019-11-14 09:00:...|48.7717766666667|        2.006005| NULL|NULL| NULL|NULL|null|    NULL| NULL|\n",
      "|    80|       9999964|2019-11-14 09:01:...|48.7717766666667|        2.006005| NULL|NULL| NULL|NULL|null|    NULL| NULL|\n",
      "|    80|       9999964|2019-11-14 09:01:...|48.7717766666667|        2.006005| NULL|NULL| NULL|NULL|null|    NULL| NULL|\n",
      "|    80|       9999964|2019-11-14 09:01:...|48.7717766666667|        2.006005| NULL|NULL| NULL|NULL|null|    NULL| NULL|\n",
      "|    80|       9999964|2019-11-14 09:01:...|48.7717766666667|        2.006005| NULL|NULL| NULL|NULL|null|    NULL| NULL|\n",
      "|    80|       9999964|2019-11-14 09:01:...|48.7717766666667|        2.006005| NULL|NULL| NULL|NULL|null|    NULL| NULL|\n",
      "|    80|       9999964|2019-11-14 09:01:...|48.7717766666667|        2.006005| NULL|NULL| NULL|NULL|null|    NULL| NULL|\n",
      "|    80|       9999964|2019-11-14 09:02:...|48.7717766666667|        2.006005| NULL|NULL| NULL|NULL|null|    NULL| NULL|\n",
      "|    80|       9999964|2019-11-14 09:02:...|48.7717766666667|        2.006005| NULL|NULL| NULL|NULL|null|    NULL| NULL|\n",
      "|    80|       9999964|2019-11-14 09:02:...|48.7717766666667|        2.006005| NULL|NULL| NULL|NULL|null|    NULL| NULL|\n",
      "|    80|       9999964|2019-11-14 09:02:...|48.7717766666667|        2.006005| NULL|NULL| NULL|NULL|null|    NULL| NULL|\n",
      "|    80|       9999964|2019-11-14 09:02:...|48.7717766666667|        2.006005| NULL|NULL| NULL|NULL|null|    NULL| NULL|\n",
      "|    80|       9999964|2019-11-14 09:02:...|48.7717466666667|2.00590833333333| NULL|NULL| NULL|NULL|null|    NULL| NULL|\n",
      "|    80|       9999964|2019-11-14 09:03:...|48.7717466666667|2.00590833333333| NULL|NULL| NULL|NULL|null|    NULL| NULL|\n",
      "|    80|       9999964|2019-11-14 09:03:...|       48.771765|2.00590333333333| NULL|NULL| NULL|NULL|null|    NULL| NULL|\n",
      "+------+--------------+--------------------+----------------+----------------+-----+----+-----+----+----+--------+-----+\n",
      "only showing top 20 rows\n",
      "\n"
     ]
    }
   ],
   "source": [
    "df.show()"
   ]
  },
  {
   "cell_type": "code",
   "execution_count": 58,
   "metadata": {},
   "outputs": [
    {
     "name": "stdout",
     "output_type": "stream",
     "text": [
      "+------+--------------+--------------------+----------------+----------------+-----+----+-----+---+---+--------+-------------------+\n",
      "|kit_id|participant_id|                time|             lat|             lon|PM2-5|PM10|PM1-0|NO2| BC|activity|              event|\n",
      "+------+--------------+--------------------+----------------+----------------+-----+----+-----+---+---+--------+-------------------+\n",
      "|    80|       9999964|2019-11-15 09:00:...|48.7717183333333|2.00601666666667| null|null| null|  7|369|  Bureau|Arrêter De Cuisiner|\n",
      "|    80|       9999964|2019-11-15 09:00:...|48.7717183333333|2.00601666666667| null|null| null|  7|369|  Bureau|Arrêter De Cuisiner|\n",
      "|    80|       9999964|2019-11-15 09:00:...|48.7717183333333|2.00601666666667| null|null| null|  7|369|  Bureau|Arrêter De Cuisiner|\n",
      "|    80|       9999964|2019-11-15 09:00:...|48.7717216666667|2.00587833333333| null|null| null|  7|369|  Bureau|Arrêter De Cuisiner|\n",
      "|    80|       9999964|2019-11-15 09:00:...|48.7717266666667|2.00586333333333| null|null| null|  7|369|  Bureau|Arrêter De Cuisiner|\n",
      "|    80|       9999964|2019-11-15 09:00:...|48.7717266666667|2.00586333333333| null|null| null|  7|369|  Bureau|Arrêter De Cuisiner|\n",
      "|    80|       9999964|2019-11-15 09:01:...|48.7717266666667|2.00586333333333| null|null| null|  6|396|  Bureau|Arrêter De Cuisiner|\n",
      "|    80|       9999964|2019-11-15 09:01:...|48.7717266666667|2.00586333333333| null|null| null|  6|396|  Bureau|Arrêter De Cuisiner|\n",
      "|    80|       9999964|2019-11-15 09:01:...|48.7717266666667|2.00586333333333| null|null| null|  6|396|  Bureau|Arrêter De Cuisiner|\n",
      "|    80|       9999964|2019-11-15 09:01:...|48.7717266666667|2.00586333333333| null|null| null|  6|396|  Bureau|Arrêter De Cuisiner|\n",
      "|    80|       9999964|2019-11-15 09:01:...|48.7717266666667|2.00586333333333| null|null| null|  6|396|  Bureau|Arrêter De Cuisiner|\n",
      "|    80|       9999964|2019-11-15 09:01:...|48.7717266666667|2.00586333333333| null|null| null|  6|396|  Bureau|Arrêter De Cuisiner|\n",
      "|    80|       9999964|2019-11-15 09:02:...|48.7717266666667|2.00586333333333| null|null| null|  6|382|  Bureau|Arrêter De Cuisiner|\n",
      "|    80|       9999964|2019-11-15 09:02:...|48.7717266666667|2.00586333333333| null|null| null|  6|382|  Bureau|Arrêter De Cuisiner|\n",
      "|    80|       9999964|2019-11-15 09:02:...|48.7717266666667|2.00586333333333| null|null| null|  6|382|  Bureau|Arrêter De Cuisiner|\n",
      "|    80|       9999964|2019-11-15 09:02:...|48.7717266666667|2.00586333333333| null|null| null|  6|382|  Bureau|Arrêter De Cuisiner|\n",
      "|    80|       9999964|2019-11-15 09:02:...|48.7717266666667|2.00586333333333| null|null| null|  6|382|  Bureau|Arrêter De Cuisiner|\n",
      "|    80|       9999964|2019-11-15 09:02:...|48.7717266666667|2.00586333333333| null|null| null|  6|382|  Bureau|Arrêter De Cuisiner|\n",
      "|    80|       9999964|2019-11-15 09:03:...|48.7717266666667|2.00586333333333|    3|   4|    4|  7|376|  Bureau|Arrêter De Cuisiner|\n",
      "|    80|       9999964|2019-11-15 09:03:...|48.7717266666667|2.00586333333333|    3|   4|    4|  7|376|  Bureau|Arrêter De Cuisiner|\n",
      "+------+--------------+--------------------+----------------+----------------+-----+----+-----+---+---+--------+-------------------+\n",
      "only showing top 20 rows\n",
      "\n"
     ]
    }
   ],
   "source": [
    "df.where(col(\"BC\").isNotNull()).show()"
   ]
  },
  {
   "cell_type": "code",
   "execution_count": null,
   "metadata": {},
   "outputs": [],
   "source": []
  },
  {
   "cell_type": "code",
   "execution_count": null,
   "metadata": {},
   "outputs": [],
   "source": []
  }
 ],
 "metadata": {
  "kernelspec": {
   "display_name": "Python 3",
   "language": "python",
   "name": "python3"
  },
  "language_info": {
   "codemirror_mode": {
    "name": "ipython",
    "version": 3
   },
   "file_extension": ".py",
   "mimetype": "text/x-python",
   "name": "python",
   "nbconvert_exporter": "python",
   "pygments_lexer": "ipython3",
   "version": "3.7.3"
  }
 },
 "nbformat": 4,
 "nbformat_minor": 2
}
